{
 "cells": [
  {
   "cell_type": "markdown",
   "metadata": {},
   "source": [
    "### Configuracion del entorno de ejecucion del modelo\n",
    "\n",
    "#### Descargar el proyecto de github y instalar las dependencias "
   ]
  },
  {
   "cell_type": "code",
   "execution_count": 1,
   "metadata": {},
   "outputs": [
    {
     "name": "stdout",
     "output_type": "stream",
     "text": [
      "/workspace/lpdr/detection\n",
      "Cloning into 'yolov5'...\n",
      "remote: Enumerating objects: 15967, done.\u001b[K\n",
      "remote: Total 15967 (delta 0), reused 0 (delta 0), pack-reused 15967\u001b[K\n",
      "Receiving objects: 100% (15967/15967), 14.56 MiB | 9.11 MiB/s, done.\n",
      "Resolving deltas: 100% (10966/10966), done.\n",
      "Updating files: 100% (142/142), done.\n",
      "/workspace/lpdr/detection/yolov5\n"
     ]
    },
    {
     "name": "stderr",
     "output_type": "stream",
     "text": [
      "UsageError: Line magic function `%sudo` not found.\n"
     ]
    }
   ],
   "source": [
    "#Clonar e instalar los requerimientos del proyecto de YOLOv5 para Pytorch\n",
    "import os\n",
    "current_folder = os.getcwd()\n",
    "\n",
    "%cd {current_folder}\n",
    "%rm -rf yolov5\n",
    "!git clone https://github.com/ultralytics/yolov5  # clone\n",
    "%cd yolov5\n",
    "%pip install -r requirements.txt # install"
   ]
  },
  {
   "cell_type": "markdown",
   "metadata": {},
   "source": [
    "#### Verificar instalación"
   ]
  },
  {
   "cell_type": "code",
   "execution_count": 2,
   "metadata": {},
   "outputs": [
    {
     "name": "stderr",
     "output_type": "stream",
     "text": [
      "YOLOv5 🚀 v7.0-218-g9e97ac3 Python-3.10.13 torch-2.0.1+cu117 CPU\n"
     ]
    },
    {
     "name": "stdout",
     "output_type": "stream",
     "text": [
      "Setup complete ✅ (12 CPUs, 7.6 GB RAM, 103.4/1006.9 GB disk)\n"
     ]
    }
   ],
   "source": [
    "import torch\n",
    "import utils\n",
    "display = utils.notebook_init()  # checks"
   ]
  }
 ],
 "metadata": {
  "kernelspec": {
   "display_name": "Python 3",
   "language": "python",
   "name": "python3"
  },
  "language_info": {
   "codemirror_mode": {
    "name": "ipython",
    "version": 3
   },
   "file_extension": ".py",
   "mimetype": "text/x-python",
   "name": "python",
   "nbconvert_exporter": "python",
   "pygments_lexer": "ipython3",
   "version": "3.10.13"
  },
  "orig_nbformat": 4
 },
 "nbformat": 4,
 "nbformat_minor": 2
}
